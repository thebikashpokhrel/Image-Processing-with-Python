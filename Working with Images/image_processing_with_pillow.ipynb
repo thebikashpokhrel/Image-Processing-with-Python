{
 "cells": [
  {
   "cell_type": "markdown",
   "metadata": {},
   "source": [
    "### Image Processing with Pillow"
   ]
  },
  {
   "cell_type": "code",
   "execution_count": 1,
   "metadata": {},
   "outputs": [],
   "source": [
    "from PIL import Image"
   ]
  },
  {
   "cell_type": "markdown",
   "metadata": {},
   "source": [
    "Note: img is not of type numpy array"
   ]
  },
  {
   "cell_type": "code",
   "execution_count": 17,
   "metadata": {},
   "outputs": [
    {
     "name": "stdout",
     "output_type": "stream",
     "text": [
      "<class 'PIL.JpegImagePlugin.JpegImageFile'>\n",
      "RGB\n",
      "(640, 427)\n"
     ]
    }
   ],
   "source": [
    "img = Image.open(\"../images/image-2.jpg\")\n",
    "img_3 = Image.open(\"../images/image-3.jpg\")\n",
    "print(type(img))\n",
    "print(img.mode)\n",
    "print(img.size)"
   ]
  },
  {
   "cell_type": "code",
   "execution_count": 8,
   "metadata": {},
   "outputs": [],
   "source": [
    "#Resizing the image\n",
    "small_img = img.resize((200,300))\n",
    "small_img.save(\"output_images/image-2_resized.jpg\")"
   ]
  },
  {
   "cell_type": "code",
   "execution_count": 13,
   "metadata": {},
   "outputs": [
    {
     "name": "stdout",
     "output_type": "stream",
     "text": [
      "(200, 133)\n"
     ]
    }
   ],
   "source": [
    "#This preserves aspect ratio\n",
    "#Take 200 as width and squeeze to certain height to preserve the previous aspect ratio\n",
    "#If we give larger values then resizing doesn't happen\n",
    "img.thumbnail((200,300))\n",
    "img.save(\"output_images/image-2_thumbnail.jpg\")\n",
    "print(img.size)"
   ]
  },
  {
   "cell_type": "markdown",
   "metadata": {},
   "source": [
    "#### Cropping the image"
   ]
  },
  {
   "cell_type": "code",
   "execution_count": null,
   "metadata": {},
   "outputs": [],
   "source": [
    "cropped_img = img.crop((0,0,300,300)) #left,upper,right,lower\n",
    "cropped_img.save(\"output_images/image-2_cropped.jpg\")"
   ]
  },
  {
   "cell_type": "code",
   "execution_count": 19,
   "metadata": {},
   "outputs": [],
   "source": [
    "img_3.thumbnail((100,200))\n",
    "#Copy and paste image on another image\n",
    "img_copy = img.copy()\n",
    "img_copy.paste(img_3,(40,40))\n",
    "img_copy.save(\"output_images/img_3_on_img_copy_paste.jpg\")"
   ]
  },
  {
   "cell_type": "markdown",
   "metadata": {},
   "source": [
    "#### Rotating image"
   ]
  },
  {
   "cell_type": "code",
   "execution_count": 20,
   "metadata": {},
   "outputs": [],
   "source": [
    "img_rot_90 = img.rotate(90)\n",
    "img_rot_90.save(\"output_images/img_rot_90.jpg\")"
   ]
  },
  {
   "cell_type": "markdown",
   "metadata": {},
   "source": [
    "#### Iterating through multiple images"
   ]
  },
  {
   "cell_type": "code",
   "execution_count": 21,
   "metadata": {},
   "outputs": [],
   "source": [
    "import glob"
   ]
  },
  {
   "cell_type": "code",
   "execution_count": 23,
   "metadata": {},
   "outputs": [
    {
     "name": "stdout",
     "output_type": "stream",
     "text": [
      "<PIL.JpegImagePlugin.JpegImageFile image mode=RGB size=640x400 at 0x26D530D39E0>\n",
      "<PIL.JpegImagePlugin.JpegImageFile image mode=RGB size=640x427 at 0x26D530D0500>\n",
      "<PIL.JpegImagePlugin.JpegImageFile image mode=RGB size=640x364 at 0x26D53101B50>\n",
      "<PIL.JpegImagePlugin.JpegImageFile image mode=RGB size=640x390 at 0x26D530D0500>\n",
      "<PIL.JpegImagePlugin.JpegImageFile image mode=RGB size=640x360 at 0x26D53101310>\n",
      "<PIL.JpegImagePlugin.JpegImageFile image mode=RGB size=640x410 at 0x26D530D0500>\n",
      "<PIL.JpegImagePlugin.JpegImageFile image mode=RGB size=640x409 at 0x26D53102A20>\n",
      "<PIL.JpegImagePlugin.JpegImageFile image mode=RGB size=640x427 at 0x26D530D0500>\n",
      "<PIL.JpegImagePlugin.JpegImageFile image mode=RGB size=640x427 at 0x26D53101B50>\n",
      "<PIL.JpegImagePlugin.JpegImageFile image mode=RGB size=640x468 at 0x26D530D0500>\n",
      "<PIL.JpegImagePlugin.JpegImageFile image mode=RGB size=640x379 at 0x26D53101310>\n",
      "<PIL.JpegImagePlugin.JpegImageFile image mode=RGB size=640x477 at 0x26D530D0500>\n",
      "<PIL.JpegImagePlugin.JpegImageFile image mode=RGB size=640x431 at 0x26D53102A20>\n",
      "<PIL.JpegImagePlugin.JpegImageFile image mode=RGB size=640x191 at 0x26D530D0500>\n",
      "<PIL.JpegImagePlugin.JpegImageFile image mode=RGB size=640x427 at 0x26D53101B50>\n",
      "<PIL.JpegImagePlugin.JpegImageFile image mode=RGB size=640x427 at 0x26D530D0500>\n",
      "<PIL.JpegImagePlugin.JpegImageFile image mode=RGB size=640x427 at 0x26D53101310>\n"
     ]
    }
   ],
   "source": [
    "path=\"../images/*\"\n",
    "\n",
    "for file in glob.glob(path):\n",
    "    a= Image.open(file)\n",
    "    print(a)"
   ]
  },
  {
   "cell_type": "code",
   "execution_count": null,
   "metadata": {},
   "outputs": [],
   "source": []
  }
 ],
 "metadata": {
  "kernelspec": {
   "display_name": "base",
   "language": "python",
   "name": "python3"
  },
  "language_info": {
   "codemirror_mode": {
    "name": "ipython",
    "version": 3
   },
   "file_extension": ".py",
   "mimetype": "text/x-python",
   "name": "python",
   "nbconvert_exporter": "python",
   "pygments_lexer": "ipython3",
   "version": "3.12.4"
  }
 },
 "nbformat": 4,
 "nbformat_minor": 2
}
